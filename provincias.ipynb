{
 "cells": [
  {
   "cell_type": "markdown",
   "metadata": {},
   "source": [
    "# Provincias"
   ]
  },
  {
   "cell_type": "code",
   "execution_count": 1,
   "metadata": {},
   "outputs": [],
   "source": [
    "import pandas as pd"
   ]
  },
  {
   "cell_type": "code",
   "execution_count": 2,
   "metadata": {},
   "outputs": [
    {
     "data": {
      "text/html": [
       "<div>\n",
       "<style scoped>\n",
       "    .dataframe tbody tr th:only-of-type {\n",
       "        vertical-align: middle;\n",
       "    }\n",
       "\n",
       "    .dataframe tbody tr th {\n",
       "        vertical-align: top;\n",
       "    }\n",
       "\n",
       "    .dataframe thead th {\n",
       "        text-align: right;\n",
       "    }\n",
       "</style>\n",
       "<table border=\"1\" class=\"dataframe\">\n",
       "  <thead>\n",
       "    <tr style=\"text-align: right;\">\n",
       "      <th></th>\n",
       "      <th>autonomia</th>\n",
       "      <th>provincia</th>\n",
       "      <th>poblacion</th>\n",
       "      <th>superficie</th>\n",
       "    </tr>\n",
       "  </thead>\n",
       "  <tbody>\n",
       "    <tr>\n",
       "      <th>0</th>\n",
       "      <td>Galicia</td>\n",
       "      <td>La Coruña</td>\n",
       "      <td>1122799</td>\n",
       "      <td>7950</td>\n",
       "    </tr>\n",
       "    <tr>\n",
       "      <th>1</th>\n",
       "      <td>Galicia</td>\n",
       "      <td>Lugo</td>\n",
       "      <td>336527</td>\n",
       "      <td>9856</td>\n",
       "    </tr>\n",
       "    <tr>\n",
       "      <th>2</th>\n",
       "      <td>Galicia</td>\n",
       "      <td>Orense</td>\n",
       "      <td>314853</td>\n",
       "      <td>7273</td>\n",
       "    </tr>\n",
       "    <tr>\n",
       "      <th>3</th>\n",
       "      <td>Galicia</td>\n",
       "      <td>Pontevedra</td>\n",
       "      <td>944346</td>\n",
       "      <td>4494</td>\n",
       "    </tr>\n",
       "    <tr>\n",
       "      <th>4</th>\n",
       "      <td>Principado de Asturias</td>\n",
       "      <td>Asturias</td>\n",
       "      <td>1042608</td>\n",
       "      <td>10603</td>\n",
       "    </tr>\n",
       "  </tbody>\n",
       "</table>\n",
       "</div>"
      ],
      "text/plain": [
       "                autonomia   provincia  poblacion  superficie\n",
       "0                 Galicia   La Coruña    1122799        7950\n",
       "1                 Galicia        Lugo     336527        9856\n",
       "2                 Galicia      Orense     314853        7273\n",
       "3                 Galicia  Pontevedra     944346        4494\n",
       "4  Principado de Asturias    Asturias    1042608       10603"
      ]
     },
     "execution_count": 2,
     "metadata": {},
     "output_type": "execute_result"
    }
   ],
   "source": [
    "df = pd.read_csv('provincias.csv',sep=';')\n",
    "df.head()"
   ]
  },
  {
   "cell_type": "markdown",
   "metadata": {},
   "source": [
    "## (01) Listado de provincias\n",
    "Vamos a obtener el listado de las 50 provincias"
   ]
  },
  {
   "cell_type": "code",
   "execution_count": 3,
   "metadata": {},
   "outputs": [
    {
     "name": "stdout",
     "output_type": "stream",
     "text": [
      "La Coruña\n",
      "Lugo\n",
      "Orense\n",
      "Pontevedra\n",
      "Asturias\n",
      "Cantabria\n",
      "Vizcaya\n",
      "Guipúzcoa\n",
      "Álava\n",
      "La Rioja\n",
      "Navarra\n",
      "Huesca\n",
      "Zaragoza\n",
      "Teruel\n",
      "Barcelona\n",
      "Tarragona\n",
      "Lérida\n",
      "Gerona\n",
      "Castellón\n",
      "Valencia\n",
      "Alicante\n",
      "Murcia\n",
      "Huelva\n",
      "Sevilla\n",
      "Córdoba\n",
      "Jaén\n",
      "Almería\n",
      "Granada\n",
      "Málaga\n",
      "Cádiz\n",
      "Cáceres\n",
      "Badajoz\n",
      "Madrid\n",
      "León\n",
      "Zamora\n",
      "Salamanca\n",
      "Palencia\n",
      "Burgos\n",
      "Valladolid\n",
      "Ávila\n",
      "Segovia\n",
      "Soria\n",
      "Toledo\n",
      "Ciudad Real\n",
      "Albacete\n",
      "Cuenca\n",
      "Guadalajara\n",
      "Santa Cruz de Tenerife\n",
      "Las Palmas\n",
      "Baleares\n"
     ]
    }
   ],
   "source": [
    "for i in df['provincia']: print(i)"
   ]
  },
  {
   "cell_type": "markdown",
   "metadata": {},
   "source": [
    "## (04) Densidades de población de las provincias"
   ]
  },
  {
   "cell_type": "code",
   "execution_count": 4,
   "metadata": {},
   "outputs": [
    {
     "name": "stdout",
     "output_type": "stream",
     "text": [
      "141.2325786163522\tLa Coruña\n",
      "34.14437905844156\tLugo\n",
      "43.290664100096244\tOrense\n",
      "210.13484646194925\tPontevedra\n",
      "98.33141563708385\tAsturias\n",
      "109.4166510054501\tCantabria\n",
      "517.6256202074876\tVizcaya\n",
      "359.45518277416124\tGuipúzcoa\n",
      "106.72571616727033\tÁlava\n",
      "62.595441030723485\tLa Rioja\n",
      "61.65402752381869\tNavarra\n",
      "14.139102072141213\tHuesca\n",
      "55.025298135926825\tZaragoza\n",
      "9.249577959349045\tTeruel\n",
      "716.7567567567568\tBarcelona\n",
      "125.7218343383053\tTarragona\n",
      "35.65897140979297\tLérida\n",
      "127.53020815704858\tGerona\n",
      "87.28827606992164\tCastellón\n",
      "235.4274081613769\tValencia\n",
      "315.7055183084064\tAlicante\n",
      "129.48351454079378\tMurcia\n",
      "51.3079885454725\tHuelva\n",
      "138.1999857509262\tSevilla\n",
      "57.48384285818023\tCórdoba\n",
      "48.03275044457617\tJaén\n",
      "80.26176638176638\tAlmería\n",
      "72.38589277241816\tGranada\n",
      "223.00821242814126\tMálaga\n",
      "166.65174731182796\tCádiz\n",
      "20.317344473525267\tCáceres\n",
      "31.43035008729211\tBadajoz\n",
      "805.6554129811885\tMadrid\n",
      "30.398202824133506\tLeón\n",
      "17.082283874633085\tZamora\n",
      "27.20746619159446\tSalamanca\n",
      "20.447590660705416\tPalencia\n",
      "25.744900870061333\tBurgos\n",
      "64.57200986436499\tValladolid\n",
      "20.18807453416149\tÁvila\n",
      "22.49306358381503\tSegovia\n",
      "8.73665825732583\tSoria\n",
      "44.8091612987182\tToledo\n",
      "25.58360672285873\tCiudad Real\n",
      "26.270802626289697\tAlbacete\n",
      "11.731096849474913\tCuenca\n",
      "20.704273784182085\tGuadalajara\n",
      "296.9902395740905\tSanta Cruz de Tenerife\n",
      "270.06150061500614\tLas Palmas\n",
      "221.84331797235023\tBaleares\n"
     ]
    }
   ],
   "source": [
    "df['densidad']=df['poblacion']/df['superficie']\n",
    "d=df[['provincia','densidad']]\n",
    "for i in range(len(d)): print(d.iloc[i][1],d.iloc[i][0],sep=\"\\t\")"
   ]
  },
  {
   "cell_type": "markdown",
   "metadata": {},
   "source": [
    "## (05) ¿Cuántos caracteres tiene cada nombre de provincia?"
   ]
  },
  {
   "cell_type": "code",
   "execution_count": 5,
   "metadata": {},
   "outputs": [
    {
     "name": "stdout",
     "output_type": "stream",
     "text": [
      "9 La Coruña\n",
      "4 Lugo\n",
      "6 Orense\n",
      "10 Pontevedra\n",
      "8 Asturias\n",
      "9 Cantabria\n",
      "7 Vizcaya\n",
      "9 Guipúzcoa\n",
      "5 Álava\n",
      "8 La Rioja\n",
      "7 Navarra\n",
      "6 Huesca\n",
      "8 Zaragoza\n",
      "6 Teruel\n",
      "9 Barcelona\n",
      "9 Tarragona\n",
      "6 Lérida\n",
      "6 Gerona\n",
      "9 Castellón\n",
      "8 Valencia\n",
      "8 Alicante\n",
      "6 Murcia\n",
      "6 Huelva\n",
      "7 Sevilla\n",
      "7 Córdoba\n",
      "4 Jaén\n",
      "7 Almería\n",
      "7 Granada\n",
      "6 Málaga\n",
      "5 Cádiz\n",
      "7 Cáceres\n",
      "7 Badajoz\n",
      "6 Madrid\n",
      "4 León\n",
      "6 Zamora\n",
      "9 Salamanca\n",
      "8 Palencia\n",
      "6 Burgos\n",
      "10 Valladolid\n",
      "5 Ávila\n",
      "7 Segovia\n",
      "5 Soria\n",
      "6 Toledo\n",
      "11 Ciudad Real\n",
      "8 Albacete\n",
      "6 Cuenca\n",
      "11 Guadalajara\n",
      "22 Santa Cruz de Tenerife\n",
      "10 Las Palmas\n",
      "8 Baleares\n"
     ]
    }
   ],
   "source": [
    "df['long_prov']=df['provincia'].str.len()\n",
    "a=df[['provincia','long_prov']]\n",
    "for i in range(len(a)): print(a.iloc[i][1],a.iloc[i][0])"
   ]
  },
  {
   "cell_type": "markdown",
   "metadata": {},
   "source": [
    "## (06) Listado de autonomías"
   ]
  },
  {
   "cell_type": "code",
   "execution_count": 6,
   "metadata": {},
   "outputs": [
    {
     "name": "stdout",
     "output_type": "stream",
     "text": [
      "Galicia\n",
      "Principado de Asturias\n",
      "Cantabria\n",
      "País Vasco\n",
      "La Rioja\n",
      "Comunidad Foral de Navarra\n",
      "Aragón\n",
      "Cataluña\n",
      "Comunidad Valenciana\n",
      "Región de Murcia\n",
      "Andalucía\n",
      "Extremadura\n",
      "Comunidad de Madrid\n",
      "Castilla y León\n",
      "Castilla-La Mancha\n",
      "Canarias\n",
      "Islas Baleares\n"
     ]
    }
   ],
   "source": [
    "for i in df['autonomia'].unique(): print(i)"
   ]
  },
  {
   "cell_type": "markdown",
   "metadata": {},
   "source": [
    "## \t(07) Provincias con el mismo nombre que su comunidad autónoma"
   ]
  },
  {
   "cell_type": "code",
   "execution_count": 7,
   "metadata": {},
   "outputs": [
    {
     "name": "stdout",
     "output_type": "stream",
     "text": [
      "Cantabria\n",
      "La Rioja\n"
     ]
    }
   ],
   "source": [
    "for i in df[ df['provincia']==df['autonomia'] ]['provincia']: print(i)"
   ]
  },
  {
   "cell_type": "markdown",
   "metadata": {},
   "source": [
    "## (08) Provincias que contienen el diptongo 'ue'"
   ]
  },
  {
   "cell_type": "code",
   "execution_count": 8,
   "metadata": {},
   "outputs": [
    {
     "name": "stdout",
     "output_type": "stream",
     "text": [
      "Huesca\n",
      "Teruel\n",
      "Huelva\n",
      "Cuenca\n"
     ]
    }
   ],
   "source": [
    "for i in df[ df['provincia'].str.contains('ue') ]['provincia']: print(i)"
   ]
  },
  {
   "cell_type": "markdown",
   "metadata": {},
   "source": [
    "## (09) Provincias que empiezan por A"
   ]
  },
  {
   "cell_type": "code",
   "execution_count": 19,
   "metadata": {},
   "outputs": [
    {
     "name": "stdout",
     "output_type": "stream",
     "text": [
      "Asturias\n",
      "Álava\n",
      "Alicante\n",
      "Almería\n",
      "Ávila\n",
      "Albacete\n"
     ]
    }
   ],
   "source": [
    "for i in df[ (df['provincia'].str[0]=='A') | (df['provincia'].str[0]==\"Á\") ]['provincia']: print(i)"
   ]
  },
  {
   "cell_type": "markdown",
   "metadata": {},
   "source": [
    "## (17) ¿Qué provincias están en autonomías con nombre compuesto?"
   ]
  },
  {
   "cell_type": "code",
   "execution_count": 23,
   "metadata": {},
   "outputs": [
    {
     "name": "stdout",
     "output_type": "stream",
     "text": [
      "Asturias\n",
      "Vizcaya\n",
      "Guipúzcoa\n",
      "Álava\n",
      "La Rioja\n",
      "Navarra\n",
      "Castellón\n",
      "Valencia\n",
      "Alicante\n",
      "Murcia\n",
      "Madrid\n",
      "León\n",
      "Zamora\n",
      "Salamanca\n",
      "Palencia\n",
      "Burgos\n",
      "Valladolid\n",
      "Ávila\n",
      "Segovia\n",
      "Soria\n",
      "Toledo\n",
      "Ciudad Real\n",
      "Albacete\n",
      "Cuenca\n",
      "Guadalajara\n",
      "Baleares\n"
     ]
    }
   ],
   "source": [
    "for i in df[ df['autonomia'].str.contains(' ') ]['provincia']: print(i)"
   ]
  },
  {
   "cell_type": "markdown",
   "metadata": {},
   "source": [
    "## (18) ¿Qué provincias tienen nombre compuesto?"
   ]
  },
  {
   "cell_type": "code",
   "execution_count": 27,
   "metadata": {},
   "outputs": [
    {
     "name": "stdout",
     "output_type": "stream",
     "text": [
      "La Coruña\n",
      "La Rioja\n",
      "Ciudad Real\n",
      "Santa Cruz de Tenerife\n",
      "Las Palmas\n"
     ]
    }
   ],
   "source": [
    "for i in df[ df['provincia'].str.contains(' ') ]['provincia']: print(i)"
   ]
  },
  {
   "cell_type": "markdown",
   "metadata": {},
   "source": [
    "## (19) ¿Qué provincias tienen nombre simple?"
   ]
  },
  {
   "cell_type": "code",
   "execution_count": 32,
   "metadata": {},
   "outputs": [
    {
     "name": "stdout",
     "output_type": "stream",
     "text": [
      "Lugo\n",
      "Orense\n",
      "Pontevedra\n",
      "Asturias\n",
      "Cantabria\n",
      "Vizcaya\n",
      "Guipúzcoa\n",
      "Álava\n",
      "Navarra\n",
      "Huesca\n",
      "Zaragoza\n",
      "Teruel\n",
      "Barcelona\n",
      "Tarragona\n",
      "Lérida\n",
      "Gerona\n",
      "Castellón\n",
      "Valencia\n",
      "Alicante\n",
      "Murcia\n",
      "Huelva\n",
      "Sevilla\n",
      "Córdoba\n",
      "Jaén\n",
      "Almería\n",
      "Granada\n",
      "Málaga\n",
      "Cádiz\n",
      "Cáceres\n",
      "Badajoz\n",
      "Madrid\n",
      "León\n",
      "Zamora\n",
      "Salamanca\n",
      "Palencia\n",
      "Burgos\n",
      "Valladolid\n",
      "Ávila\n",
      "Segovia\n",
      "Soria\n",
      "Toledo\n",
      "Albacete\n",
      "Cuenca\n",
      "Guadalajara\n",
      "Baleares\n"
     ]
    }
   ],
   "source": [
    "for i in df[ df['provincia'].str.contains(' ')==0 ]['provincia']: print(i)"
   ]
  },
  {
   "cell_type": "markdown",
   "metadata": {},
   "source": [
    "## (10) Autonomías terminadas en 'ana'"
   ]
  },
  {
   "cell_type": "code",
   "execution_count": 37,
   "metadata": {},
   "outputs": [
    {
     "name": "stdout",
     "output_type": "stream",
     "text": [
      "Comunidad Valenciana\n"
     ]
    }
   ],
   "source": [
    "for i in df[ df['autonomia'].str[-3:]=='ana' ]['autonomia'].unique(): print(i)"
   ]
  },
  {
   "cell_type": "markdown",
   "metadata": {},
   "source": [
    "## (11) ¿Cuántos caracteres tiene cada nombre de comunidad autónoma? Ordena el resultado por el nombre de la autonomía de forma descendente"
   ]
  },
  {
   "cell_type": "code",
   "execution_count": 62,
   "metadata": {},
   "outputs": [
    {
     "name": "stdout",
     "output_type": "stream",
     "text": [
      "16\tRegión de Murcia\n",
      "22\tPrincipado de Asturias\n",
      "10\tPaís Vasco\n",
      "8\tLa Rioja\n",
      "14\tIslas Baleares\n",
      "7\tGalicia\n",
      "11\tExtremadura\n",
      "19\tComunidad de Madrid\n",
      "20\tComunidad Valenciana\n",
      "26\tComunidad Foral de Navarra\n",
      "8\tCataluña\n",
      "18\tCastilla-La Mancha\n",
      "15\tCastilla y León\n",
      "9\tCantabria\n",
      "8\tCanarias\n",
      "6\tAragón\n",
      "9\tAndalucía\n"
     ]
    }
   ],
   "source": [
    "a=list(df['autonomia'].unique())\n",
    "a.sort(reverse=True)\n",
    "for i in a: print(len(i),i,sep=\"\\t\")"
   ]
  },
  {
   "cell_type": "markdown",
   "metadata": {},
   "source": [
    "## (13) ¿Qué autonomías tienen nombre simple? Ordena el resultado alfabéticamente en orden inverso"
   ]
  },
  {
   "cell_type": "code",
   "execution_count": 69,
   "metadata": {},
   "outputs": [
    {
     "name": "stdout",
     "output_type": "stream",
     "text": [
      "Galicia\n",
      "Extremadura\n",
      "Cataluña\n",
      "Cantabria\n",
      "Canarias\n",
      "Aragón\n",
      "Andalucía\n"
     ]
    }
   ],
   "source": [
    "for i in df[ df['autonomia'].str.contains(' ')==0 ]['autonomia'].sort_values(ascending=False).unique():\n",
    "    print(i)"
   ]
  },
  {
   "cell_type": "markdown",
   "metadata": {},
   "source": [
    "## (14) ¿Qué autonomías tienen provincias con nombre compuesto? Ordenar el resultado alfabéticamente"
   ]
  },
  {
   "cell_type": "code",
   "execution_count": 77,
   "metadata": {},
   "outputs": [
    {
     "name": "stdout",
     "output_type": "stream",
     "text": [
      "Canarias\n",
      "Castilla-La Mancha\n",
      "Galicia\n",
      "La Rioja\n"
     ]
    }
   ],
   "source": [
    "for i in df[ df['provincia'].str.contains(' ') ]['autonomia'].sort_values().unique(): print(i)"
   ]
  },
  {
   "cell_type": "markdown",
   "metadata": {},
   "source": [
    "## (15) Autonomías que comiencen por 'can' ordenadas alfabéticamente"
   ]
  },
  {
   "cell_type": "code",
   "execution_count": 81,
   "metadata": {},
   "outputs": [
    {
     "name": "stdout",
     "output_type": "stream",
     "text": [
      "Canarias\n",
      "Cantabria\n"
     ]
    }
   ],
   "source": [
    "for i in df[ df['autonomia'].str[:3]=='Can' ]['autonomia'].sort_values().unique(): print(i)"
   ]
  }
 ],
 "metadata": {
  "kernelspec": {
   "display_name": "Python 3",
   "language": "python",
   "name": "python3"
  },
  "language_info": {
   "codemirror_mode": {
    "name": "ipython",
    "version": 3
   },
   "file_extension": ".py",
   "mimetype": "text/x-python",
   "name": "python",
   "nbconvert_exporter": "python",
   "pygments_lexer": "ipython3",
   "version": "3.7.4"
  }
 },
 "nbformat": 4,
 "nbformat_minor": 4
}
